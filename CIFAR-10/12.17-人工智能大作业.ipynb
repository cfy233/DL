{
  "nbformat": 4,
  "nbformat_minor": 0,
  "metadata": {
    "accelerator": "GPU",
    "colab": {
      "name": "人工智能作业.ipynb",
      "provenance": [],
      "collapsed_sections": []
    },
    "kernelspec": {
      "display_name": "Python 3",
      "language": "python",
      "name": "python3"
    },
    "language_info": {
      "codemirror_mode": {
        "name": "ipython",
        "version": 3
      },
      "file_extension": ".py",
      "mimetype": "text/x-python",
      "name": "python",
      "nbconvert_exporter": "python",
      "pygments_lexer": "ipython3",
      "version": "3.8.5"
    },
    "widgets": {
      "application/vnd.jupyter.widget-state+json": {
        "34c39350b77845b89a05a594eb8feb7b": {
          "model_module": "@jupyter-widgets/controls",
          "model_name": "HBoxModel",
          "state": {
            "_view_name": "HBoxView",
            "_dom_classes": [],
            "_model_name": "HBoxModel",
            "_view_module": "@jupyter-widgets/controls",
            "_model_module_version": "1.5.0",
            "_view_count": null,
            "_view_module_version": "1.5.0",
            "box_style": "",
            "layout": "IPY_MODEL_9252abe4c8f04e42b84d027dcab74f2c",
            "_model_module": "@jupyter-widgets/controls",
            "children": [
              "IPY_MODEL_2b9f0ed5bbf04c17b50f0ef639804958",
              "IPY_MODEL_13ccd989cd534e948988be45a49d99aa"
            ]
          }
        },
        "9252abe4c8f04e42b84d027dcab74f2c": {
          "model_module": "@jupyter-widgets/base",
          "model_name": "LayoutModel",
          "state": {
            "_view_name": "LayoutView",
            "grid_template_rows": null,
            "right": null,
            "justify_content": null,
            "_view_module": "@jupyter-widgets/base",
            "overflow": null,
            "_model_module_version": "1.2.0",
            "_view_count": null,
            "flex_flow": null,
            "width": null,
            "min_width": null,
            "border": null,
            "align_items": null,
            "bottom": null,
            "_model_module": "@jupyter-widgets/base",
            "top": null,
            "grid_column": null,
            "overflow_y": null,
            "overflow_x": null,
            "grid_auto_flow": null,
            "grid_area": null,
            "grid_template_columns": null,
            "flex": null,
            "_model_name": "LayoutModel",
            "justify_items": null,
            "grid_row": null,
            "max_height": null,
            "align_content": null,
            "visibility": null,
            "align_self": null,
            "height": null,
            "min_height": null,
            "padding": null,
            "grid_auto_rows": null,
            "grid_gap": null,
            "max_width": null,
            "order": null,
            "_view_module_version": "1.2.0",
            "grid_template_areas": null,
            "object_position": null,
            "object_fit": null,
            "grid_auto_columns": null,
            "margin": null,
            "display": null,
            "left": null
          }
        },
        "2b9f0ed5bbf04c17b50f0ef639804958": {
          "model_module": "@jupyter-widgets/controls",
          "model_name": "FloatProgressModel",
          "state": {
            "_view_name": "ProgressView",
            "style": "IPY_MODEL_4c682d603986431d8d5430ca7f25a469",
            "_dom_classes": [],
            "description": "",
            "_model_name": "FloatProgressModel",
            "bar_style": "info",
            "max": 1,
            "_view_module": "@jupyter-widgets/controls",
            "_model_module_version": "1.5.0",
            "value": 1,
            "_view_count": null,
            "_view_module_version": "1.5.0",
            "orientation": "horizontal",
            "min": 0,
            "description_tooltip": null,
            "_model_module": "@jupyter-widgets/controls",
            "layout": "IPY_MODEL_b81c99e2782a44318d5b2e2fd3ac9863"
          }
        },
        "13ccd989cd534e948988be45a49d99aa": {
          "model_module": "@jupyter-widgets/controls",
          "model_name": "HTMLModel",
          "state": {
            "_view_name": "HTMLView",
            "style": "IPY_MODEL_2e74dd0e04a347d1badecdc26a823c7e",
            "_dom_classes": [],
            "description": "",
            "_model_name": "HTMLModel",
            "placeholder": "​",
            "_view_module": "@jupyter-widgets/controls",
            "_model_module_version": "1.5.0",
            "value": " 170500096/? [00:20&lt;00:00, 99997623.54it/s]",
            "_view_count": null,
            "_view_module_version": "1.5.0",
            "description_tooltip": null,
            "_model_module": "@jupyter-widgets/controls",
            "layout": "IPY_MODEL_e2596029c8d746de86cbe468e8266863"
          }
        },
        "4c682d603986431d8d5430ca7f25a469": {
          "model_module": "@jupyter-widgets/controls",
          "model_name": "ProgressStyleModel",
          "state": {
            "_view_name": "StyleView",
            "_model_name": "ProgressStyleModel",
            "description_width": "initial",
            "_view_module": "@jupyter-widgets/base",
            "_model_module_version": "1.5.0",
            "_view_count": null,
            "_view_module_version": "1.2.0",
            "bar_color": null,
            "_model_module": "@jupyter-widgets/controls"
          }
        },
        "b81c99e2782a44318d5b2e2fd3ac9863": {
          "model_module": "@jupyter-widgets/base",
          "model_name": "LayoutModel",
          "state": {
            "_view_name": "LayoutView",
            "grid_template_rows": null,
            "right": null,
            "justify_content": null,
            "_view_module": "@jupyter-widgets/base",
            "overflow": null,
            "_model_module_version": "1.2.0",
            "_view_count": null,
            "flex_flow": null,
            "width": null,
            "min_width": null,
            "border": null,
            "align_items": null,
            "bottom": null,
            "_model_module": "@jupyter-widgets/base",
            "top": null,
            "grid_column": null,
            "overflow_y": null,
            "overflow_x": null,
            "grid_auto_flow": null,
            "grid_area": null,
            "grid_template_columns": null,
            "flex": null,
            "_model_name": "LayoutModel",
            "justify_items": null,
            "grid_row": null,
            "max_height": null,
            "align_content": null,
            "visibility": null,
            "align_self": null,
            "height": null,
            "min_height": null,
            "padding": null,
            "grid_auto_rows": null,
            "grid_gap": null,
            "max_width": null,
            "order": null,
            "_view_module_version": "1.2.0",
            "grid_template_areas": null,
            "object_position": null,
            "object_fit": null,
            "grid_auto_columns": null,
            "margin": null,
            "display": null,
            "left": null
          }
        },
        "2e74dd0e04a347d1badecdc26a823c7e": {
          "model_module": "@jupyter-widgets/controls",
          "model_name": "DescriptionStyleModel",
          "state": {
            "_view_name": "StyleView",
            "_model_name": "DescriptionStyleModel",
            "description_width": "",
            "_view_module": "@jupyter-widgets/base",
            "_model_module_version": "1.5.0",
            "_view_count": null,
            "_view_module_version": "1.2.0",
            "_model_module": "@jupyter-widgets/controls"
          }
        },
        "e2596029c8d746de86cbe468e8266863": {
          "model_module": "@jupyter-widgets/base",
          "model_name": "LayoutModel",
          "state": {
            "_view_name": "LayoutView",
            "grid_template_rows": null,
            "right": null,
            "justify_content": null,
            "_view_module": "@jupyter-widgets/base",
            "overflow": null,
            "_model_module_version": "1.2.0",
            "_view_count": null,
            "flex_flow": null,
            "width": null,
            "min_width": null,
            "border": null,
            "align_items": null,
            "bottom": null,
            "_model_module": "@jupyter-widgets/base",
            "top": null,
            "grid_column": null,
            "overflow_y": null,
            "overflow_x": null,
            "grid_auto_flow": null,
            "grid_area": null,
            "grid_template_columns": null,
            "flex": null,
            "_model_name": "LayoutModel",
            "justify_items": null,
            "grid_row": null,
            "max_height": null,
            "align_content": null,
            "visibility": null,
            "align_self": null,
            "height": null,
            "min_height": null,
            "padding": null,
            "grid_auto_rows": null,
            "grid_gap": null,
            "max_width": null,
            "order": null,
            "_view_module_version": "1.2.0",
            "grid_template_areas": null,
            "object_position": null,
            "object_fit": null,
            "grid_auto_columns": null,
            "margin": null,
            "display": null,
            "left": null
          }
        }
      }
    }
  },
  "cells": [
    {
      "cell_type": "markdown",
      "metadata": {
        "id": "RkSzZoAyRdQ4"
      },
      "source": [
        "**导入数据库**"
      ]
    },
    {
      "cell_type": "code",
      "metadata": {
        "id": "oa3E7pKJQIsk"
      },
      "source": [
        "import torch\n",
        "import torchvision\n",
        "import torch.nn.functional as F\n",
        "from torch import nn\n",
        "from torchvision import datasets, transforms\n",
        "\n",
        "import numpy as np \n",
        "import pandas as pd\n",
        "import matplotlib.pyplot as plt\n",
        "\n",
        "import warnings\n",
        "warnings.filterwarnings('ignore')"
      ],
      "execution_count": 2,
      "outputs": []
    },
    {
      "cell_type": "code",
      "metadata": {
        "colab": {
          "base_uri": "https://localhost:8080/",
          "height": 99,
          "referenced_widgets": [
            "34c39350b77845b89a05a594eb8feb7b",
            "9252abe4c8f04e42b84d027dcab74f2c",
            "2b9f0ed5bbf04c17b50f0ef639804958",
            "13ccd989cd534e948988be45a49d99aa",
            "4c682d603986431d8d5430ca7f25a469",
            "b81c99e2782a44318d5b2e2fd3ac9863",
            "2e74dd0e04a347d1badecdc26a823c7e",
            "e2596029c8d746de86cbe468e8266863"
          ]
        },
        "id": "TqV7WeW5TkmQ",
        "outputId": "25a9a684-92c0-4c99-c414-ad1af1160eff"
      },
      "source": [
        "#超参数设置\n",
        "batch_size = 100   #训练集块大小\n",
        "\n",
        "learning_rate = 0.001   #学习率\n",
        "numepochs = 20     #迭代次数\n",
        "\n",
        "\n",
        "transformation_train = transforms.Compose([\n",
        "    transforms.Resize((32,32)),\n",
        "    transforms.RandomHorizontalFlip(),\n",
        "    transforms.RandomRotation(10),\n",
        "    transforms.RandomAffine(0, shear=10, scale=(0.8,1.2)),\n",
        "    transforms.ColorJitter(brightness=0.2, contrast=0.2, saturation=0.2),\n",
        "    transforms.ToTensor(),\n",
        "    transforms.Normalize((0.5, 0.5, 0.5), (0.5, 0.5, 0.5))])\n",
        " \n",
        "# Compose的意思是将多个transform组合在一起用，\n",
        "#ToTensor 将像素转化为[0,1]的数字，Normalize则正则化变为 [-1,1]\n",
        "transformation_test = transforms.Compose([\n",
        "    transforms.ToTensor(),\n",
        "    transforms.Normalize((0.5, 0.5, 0.5), (0.5, 0.5, 0.5))])\n",
        "\n",
        "# 导入数据集\n",
        "train_dataset = datasets.CIFAR10(root='./root', train=True,  download=True, transform=transformation_train)\n",
        "test_dataset  = datasets.CIFAR10(root='./root', train=False, download=True, transform=transformation_test)\n",
        "\n",
        "\n",
        "# 创建数据加载器\n",
        "# 开启shuffle就等于全集使用SubsetRandomSampler，都是随机采样,\n",
        "train_loader = torch.utils.data.DataLoader(train_dataset, batch_size=batch_size, shuffle=True, num_workers=2)\n",
        "test_loader  = torch.utils.data.DataLoader(test_dataset,  batch_size=batch_size, shuffle=True,num_workers=2)\n",
        "\n",
        "classes = ['plane', 'car', 'bird', 'cat', 'deer', 'dog', 'frog', 'horse', 'ship', 'truck'] "
      ],
      "execution_count": 3,
      "outputs": [
        {
          "output_type": "stream",
          "text": [
            "Downloading https://www.cs.toronto.edu/~kriz/cifar-10-python.tar.gz to ./root/cifar-10-python.tar.gz\n"
          ],
          "name": "stdout"
        },
        {
          "output_type": "display_data",
          "data": {
            "application/vnd.jupyter.widget-view+json": {
              "model_id": "34c39350b77845b89a05a594eb8feb7b",
              "version_minor": 0,
              "version_major": 2
            },
            "text/plain": [
              "HBox(children=(FloatProgress(value=1.0, bar_style='info', max=1.0), HTML(value='')))"
            ]
          },
          "metadata": {
            "tags": []
          }
        },
        {
          "output_type": "stream",
          "text": [
            "Extracting ./root/cifar-10-python.tar.gz to ./root\n",
            "Files already downloaded and verified\n"
          ],
          "name": "stdout"
        }
      ]
    },
    {
      "cell_type": "code",
      "metadata": {
        "colab": {
          "base_uri": "https://localhost:8080/"
        },
        "id": "8clBTpKgTpsf",
        "outputId": "70905d04-4112-4e89-8ad0-516022366972"
      },
      "source": [
        "#查看数据集规格\n",
        "train_iterator = iter(train_loader)\n",
        "train_images, train_labels = train_iterator.next()\n",
        "print( train_images.shape )\n",
        "print( train_labels.shape )"
      ],
      "execution_count": 4,
      "outputs": [
        {
          "output_type": "stream",
          "text": [
            "torch.Size([100, 3, 32, 32])\n",
            "torch.Size([100])\n"
          ],
          "name": "stdout"
        }
      ]
    },
    {
      "cell_type": "code",
      "metadata": {
        "colab": {
          "base_uri": "https://localhost:8080/",
          "height": 268
        },
        "id": "P-ac30aQr7ER",
        "outputId": "c2edb356-25fd-4664-a39b-134a933b4ed6"
      },
      "source": [
        "# 主要目的验证数据是否正确\n",
        "def imshow(img):\n",
        "    img = img / 2 + 0.5  # 非规范化\n",
        "    plt.imshow(np.transpose(img, (1, 2, 0)))  # 转换张量图像\n",
        "   \n",
        "# 随机获取一批样本\n",
        "train_iterator = iter(train_loader)\n",
        "train_images, train_labels = train_iterator.next()\n",
        "train_images = train_images.numpy() #将图像转换为numpy显示\n",
        "\n",
        "# 显示图像，标题为类名\n",
        "fig = plt.figure(figsize=(10, 4))\n",
        "# 显示8张图片\n",
        "for id in np.arange(8):\n",
        "    ax = fig.add_subplot(2, 4, id+1, xticks=[], yticks=[])\n",
        "    imshow(train_images[id])\n",
        "    ax.set_title(classes[train_labels[id]],color=\"green\")"
      ],
      "execution_count": 6,
      "outputs": [
        {
          "output_type": "display_data",
          "data": {
            "image/png": "[encoded data removed]",
            "text/plain": [
              "<Figure size 720x288 with 8 Axes>"
            ]
          },
          "metadata": {
            "tags": []
          }
        }
      ]
    },
    {
      "cell_type": "code",
      "metadata": {
        "colab": {
          "base_uri": "https://localhost:8080/"
        },
        "id": "u-nf3ZzCUNXw",
        "outputId": "57e0259b-c947-40c7-8c10-72cf8afbacee"
      },
      "source": [
        "#采用全卷积层的结构：\n",
        "\n",
        "class CNN(nn.Module):\n",
        "    def __init__(self):\n",
        "        super(CNN, self).__init__()\n",
        "        self.conv1 = nn.Conv2d(3, 64, 3, padding = 1)\n",
        "        self.conv2 = nn.Conv2d(64, 64, 3, padding = 1)\n",
        "        self.conv3 = nn.Conv2d(64, 128, 3, padding = 1)\n",
        "        self.conv4 = nn.Conv2d(128, 128, 3, padding = 1)\n",
        "        self.conv5 = nn.Conv2d(128, 256, 3, padding = 1)\n",
        "        self.conv6 = nn.Conv2d(256, 256, 3, padding = 1)\n",
        "        self.maxpool = nn.MaxPool2d(2, 2)\n",
        "        self.avgpool = nn.AvgPool2d(2, 2)\n",
        "        self.globalavgpool = nn.AvgPool2d(8, 8)\n",
        "        self.bn1 = nn.BatchNorm2d(64) #归一化\n",
        "        self.bn2 = nn.BatchNorm2d(128)\n",
        "        self.bn3 = nn.BatchNorm2d(256)\n",
        "        self.dropout50 = nn.Dropout(0.5)\n",
        "        self.dropout10 = nn.Dropout(0.1)\n",
        "        self.fc = nn.Linear(256, 10)\n",
        " \n",
        "    def forward(self, x):\n",
        "        x = self.bn1(F.relu(self.conv1(x)))\n",
        "        x = self.bn1(F.relu(self.conv2(x)))\n",
        "        x = self.maxpool(x)\n",
        "        x = self.dropout10(x)\n",
        "        x = self.bn2(F.relu(self.conv3(x)))\n",
        "        x = self.bn2(F.relu(self.conv4(x)))\n",
        "        x = self.avgpool(x)\n",
        "        x = self.dropout10(x)\n",
        "        x = self.bn3(F.relu(self.conv5(x)))\n",
        "        x = self.bn3(F.relu(self.conv6(x)))\n",
        "        x = self.globalavgpool(x)\n",
        "        x = self.dropout50(x)\n",
        "        x = x.view(x.size(0), -1)\n",
        "        x = self.fc(x)\n",
        "        return x\n",
        "cnn = CNN()\n",
        "# 如有GPU则自动使用GPU计算\n",
        "device = torch.device(\"cuda:0\" if torch.cuda.is_available() else \"cpu\") \n",
        "cnn.to(device)"
      ],
      "execution_count": 7,
      "outputs": [
        {
          "output_type": "execute_result",
          "data": {
            "text/plain": [
              "CNN(\n",
              "  (conv1): Conv2d(3, 64, kernel_size=(3, 3), stride=(1, 1), padding=(1, 1))\n",
              "  (conv2): Conv2d(64, 64, kernel_size=(3, 3), stride=(1, 1), padding=(1, 1))\n",
              "  (conv3): Conv2d(64, 128, kernel_size=(3, 3), stride=(1, 1), padding=(1, 1))\n",
              "  (conv4): Conv2d(128, 128, kernel_size=(3, 3), stride=(1, 1), padding=(1, 1))\n",
              "  (conv5): Conv2d(128, 256, kernel_size=(3, 3), stride=(1, 1), padding=(1, 1))\n",
              "  (conv6): Conv2d(256, 256, kernel_size=(3, 3), stride=(1, 1), padding=(1, 1))\n",
              "  (maxpool): MaxPool2d(kernel_size=2, stride=2, padding=0, dilation=1, ceil_mode=False)\n",
              "  (avgpool): AvgPool2d(kernel_size=2, stride=2, padding=0)\n",
              "  (globalavgpool): AvgPool2d(kernel_size=8, stride=8, padding=0)\n",
              "  (bn1): BatchNorm2d(64, eps=1e-05, momentum=0.1, affine=True, track_running_stats=True)\n",
              "  (bn2): BatchNorm2d(128, eps=1e-05, momentum=0.1, affine=True, track_running_stats=True)\n",
              "  (bn3): BatchNorm2d(256, eps=1e-05, momentum=0.1, affine=True, track_running_stats=True)\n",
              "  (dropout50): Dropout(p=0.5, inplace=False)\n",
              "  (dropout10): Dropout(p=0.1, inplace=False)\n",
              "  (fc): Linear(in_features=256, out_features=10, bias=True)\n",
              ")"
            ]
          },
          "metadata": {
            "tags": []
          },
          "execution_count": 7
        }
      ]
    },
    {
      "cell_type": "code",
      "metadata": {
        "id": "zjsHBpPaUXjJ"
      },
      "source": [
        "# 损失函数\n",
        "loss_func = nn.CrossEntropyLoss()  # 交叉熵损失函数\n",
        "# 优化器\n",
        "# Adam 优化算法是随机梯度下降算法的扩展式\n",
        "optimizer = torch.optim.Adam(cnn.parameters(), lr=learning_rate)    "
      ],
      "execution_count": 8,
      "outputs": []
    },
    {
      "cell_type": "code",
      "metadata": {
        "colab": {
          "base_uri": "https://localhost:8080/"
        },
        "id": "NeAqTpKWUw5n",
        "outputId": "c0780674-d08a-4da0-a071-1e39af44fc31"
      },
      "source": [
        "#定义整个训练过程\n",
        "train_count = len(train_loader) * batch_size\n",
        "test_count  = len(test_loader)  * batch_size\n",
        "train_losses = []\n",
        "test_losses  = []\n",
        "train_acurracies = []\n",
        "test_acurracies  = []\n",
        "\n",
        "# 开始迭代\n",
        "for epoch in range(numepochs):\n",
        "    train_loss = 0.0\n",
        "    test_loss = 0.0\n",
        "    train_acc = 0.0\n",
        "    test_acc = 0.0\n",
        "  \n",
        "    # 使用训练集进行训练\n",
        "    for train_images, train_labels in train_loader:\n",
        "    \n",
        "        # 将图像和标签部署到GPU上，更快一些\n",
        "        train_images = train_images.to( device )\n",
        "        train_labels = train_labels.to( device )\n",
        "    \n",
        "        # 计算当前批次训练集上的损失度\n",
        "\n",
        "        output = cnn(train_images) \n",
        "        loss = loss_func(output, train_labels)\n",
        "    \n",
        "        # 更新权重\n",
        "        optimizer.zero_grad()\n",
        "        loss.backward()\n",
        "        optimizer.step()  \n",
        "    \n",
        "        # 计算当前批次训练集上的准确度\n",
        "        predictions = torch.max( output , 1)[1] \n",
        "        acurracy = torch.sum( predictions == train_labels )\n",
        "    \n",
        "        # 将准确度、损失度分别相加\n",
        "        train_acc += acurracy \n",
        "        train_loss += loss.item()\n",
        "    \n",
        "    print(\"EPOCH --> \" + str(epoch + 1))\n",
        "    print(\"----------------------------------------------\")\n",
        "  \n",
        "    # 在同一批次内测试当前模型\n",
        "    for test_images, test_labels in test_loader:\n",
        "    \n",
        "        \n",
        "        test_images = test_images.to( device )\n",
        "        test_labels = test_labels.to( device )\n",
        "    \n",
        "       \n",
        "        output = cnn(test_images)\n",
        "        loss = loss_func(output, test_labels)\n",
        "    \n",
        "        # 当前批次的准确度\n",
        "        predictions = torch.max( output , 1)[1] \n",
        "        acurracy = torch.sum( predictions == test_labels )\n",
        "    \n",
        "        \n",
        "        test_acc += acurracy \n",
        "        test_loss += loss.item()\n",
        " \n",
        "    # 打印当前批次训练集的准确度、损失度 \n",
        "    train_acc = float(train_acc.float()) / train_count\n",
        "    train_acurracies.append( train_acc )\n",
        "    print(\"Train Acurracy: \" + str( float(train_acc) ))\n",
        "    \n",
        "    train_loss = train_loss / train_count\n",
        "    train_losses.append( train_loss )\n",
        "    print(\"Train Loss: \" + str(train_loss) + \"\\n\")\n",
        "  \n",
        "    # 打印当前批次测试集的准确度、损失度\n",
        "    test_acc = float(test_acc.float()) / test_count\n",
        "    test_acurracies.append( test_acc )\n",
        "    print(\"Test Acurracy: \" + str( float(test_acc) ))    \n",
        "    \n",
        "    test_loss = test_loss / test_count\n",
        "    test_losses.append( test_loss )\n",
        "    print(\"Test Loss: \" + str(test_loss))\n",
        "    print(\"----------------------------------------------\\n\")"
      ],
      "execution_count": 10,
      "outputs": [
        {
          "output_type": "stream",
          "text": [
            "EPOCH --> 1\n",
            "----------------------------------------------\n",
            "Train Acurracy: 0.46124\n",
            "Train Loss: 0.014743786492347716\n",
            "\n",
            "Test Acurracy: 0.5882\n",
            "Test Loss: 0.011494061440229415\n",
            "----------------------------------------------\n",
            "\n",
            "EPOCH --> 2\n",
            "----------------------------------------------\n",
            "Train Acurracy: 0.61776\n",
            "Train Loss: 0.010695842671394349\n",
            "\n",
            "Test Acurracy: 0.683\n",
            "Test Loss: 0.009053345501422881\n",
            "----------------------------------------------\n",
            "\n",
            "EPOCH --> 3\n",
            "----------------------------------------------\n",
            "Train Acurracy: 0.69018\n",
            "Train Loss: 0.008777299312353134\n",
            "\n",
            "Test Acurracy: 0.7422\n",
            "Test Loss: 0.007398552453517913\n",
            "----------------------------------------------\n",
            "\n",
            "EPOCH --> 4\n",
            "----------------------------------------------\n",
            "Train Acurracy: 0.74132\n",
            "Train Loss: 0.007494103597998619\n",
            "\n",
            "Test Acurracy: 0.7786\n",
            "Test Loss: 0.006420264250040054\n",
            "----------------------------------------------\n",
            "\n",
            "EPOCH --> 5\n",
            "----------------------------------------------\n",
            "Train Acurracy: 0.7704\n",
            "Train Loss: 0.006674761282205581\n",
            "\n",
            "Test Acurracy: 0.803\n",
            "Test Loss: 0.005829003661870957\n",
            "----------------------------------------------\n",
            "\n",
            "EPOCH --> 6\n",
            "----------------------------------------------\n",
            "Train Acurracy: 0.78628\n",
            "Train Loss: 0.006136997548937798\n",
            "\n",
            "Test Acurracy: 0.8046\n",
            "Test Loss: 0.005699991157650948\n",
            "----------------------------------------------\n",
            "\n",
            "EPOCH --> 7\n",
            "----------------------------------------------\n",
            "Train Acurracy: 0.80128\n",
            "Train Loss: 0.00574551129758358\n",
            "\n",
            "Test Acurracy: 0.8214\n",
            "Test Loss: 0.005272865268588066\n",
            "----------------------------------------------\n",
            "\n",
            "EPOCH --> 8\n",
            "----------------------------------------------\n",
            "Train Acurracy: 0.81724\n",
            "Train Loss: 0.005329383509159088\n",
            "\n",
            "Test Acurracy: 0.8335\n",
            "Test Loss: 0.0049043502658605576\n",
            "----------------------------------------------\n",
            "\n",
            "EPOCH --> 9\n",
            "----------------------------------------------\n",
            "Train Acurracy: 0.8242\n",
            "Train Loss: 0.005093321222066879\n",
            "\n",
            "Test Acurracy: 0.8366\n",
            "Test Loss: 0.004790931871533394\n",
            "----------------------------------------------\n",
            "\n",
            "EPOCH --> 10\n",
            "----------------------------------------------\n",
            "Train Acurracy: 0.83256\n",
            "Train Loss: 0.0048569248846173285\n",
            "\n",
            "Test Acurracy: 0.8407\n",
            "Test Loss: 0.0046177515238523485\n",
            "----------------------------------------------\n",
            "\n",
            "EPOCH --> 11\n",
            "----------------------------------------------\n",
            "Train Acurracy: 0.8405\n",
            "Train Loss: 0.004603684718310833\n",
            "\n",
            "Test Acurracy: 0.8503\n",
            "Test Loss: 0.004518555572628975\n",
            "----------------------------------------------\n",
            "\n",
            "EPOCH --> 12\n",
            "----------------------------------------------\n",
            "Train Acurracy: 0.84626\n",
            "Train Loss: 0.00446834276765585\n",
            "\n",
            "Test Acurracy: 0.8465\n",
            "Test Loss: 0.004487954923510552\n",
            "----------------------------------------------\n",
            "\n",
            "EPOCH --> 13\n",
            "----------------------------------------------\n",
            "Train Acurracy: 0.85046\n",
            "Train Loss: 0.0043041274002194405\n",
            "\n",
            "Test Acurracy: 0.8554\n",
            "Test Loss: 0.004329823690652847\n",
            "----------------------------------------------\n",
            "\n",
            "EPOCH --> 14\n",
            "----------------------------------------------\n",
            "Train Acurracy: 0.85628\n",
            "Train Loss: 0.004171259049475193\n",
            "\n",
            "Test Acurracy: 0.8589\n",
            "Test Loss: 0.00424732009023428\n",
            "----------------------------------------------\n",
            "\n",
            "EPOCH --> 15\n",
            "----------------------------------------------\n",
            "Train Acurracy: 0.86054\n",
            "Train Loss: 0.004017535887658596\n",
            "\n",
            "Test Acurracy: 0.8571\n",
            "Test Loss: 0.0042155288234353066\n",
            "----------------------------------------------\n",
            "\n",
            "EPOCH --> 16\n",
            "----------------------------------------------\n",
            "Train Acurracy: 0.86228\n",
            "Train Loss: 0.003968235470056534\n",
            "\n",
            "Test Acurracy: 0.8643\n",
            "Test Loss: 0.004106635645031929\n",
            "----------------------------------------------\n",
            "\n",
            "EPOCH --> 17\n",
            "----------------------------------------------\n",
            "Train Acurracy: 0.87018\n",
            "Train Loss: 0.003758587220311165\n",
            "\n",
            "Test Acurracy: 0.8616\n",
            "Test Loss: 0.004085809987783432\n",
            "----------------------------------------------\n",
            "\n",
            "EPOCH --> 18\n",
            "----------------------------------------------\n",
            "Train Acurracy: 0.8731\n",
            "Train Loss: 0.0036741123017668726\n",
            "\n",
            "Test Acurracy: 0.8698\n",
            "Test Loss: 0.0038778865605592727\n",
            "----------------------------------------------\n",
            "\n",
            "EPOCH --> 19\n",
            "----------------------------------------------\n",
            "Train Acurracy: 0.87612\n",
            "Train Loss: 0.0035408622884750365\n",
            "\n",
            "Test Acurracy: 0.8638\n",
            "Test Loss: 0.004031335426867008\n",
            "----------------------------------------------\n",
            "\n",
            "EPOCH --> 20\n",
            "----------------------------------------------\n",
            "Train Acurracy: 0.88118\n",
            "Train Loss: 0.003488977868258953\n",
            "\n",
            "Test Acurracy: 0.8686\n",
            "Test Loss: 0.003938265872001648\n",
            "----------------------------------------------\n",
            "\n"
          ],
          "name": "stdout"
        }
      ]
    },
    {
      "cell_type": "code",
      "metadata": {
        "colab": {
          "base_uri": "https://localhost:8080/",
          "height": 281
        },
        "id": "R-TbuZOuaHcx",
        "outputId": "8b1d32bf-7f2d-49da-b0f9-1c4339a2222e"
      },
      "source": [
        "# 绘制损失图\n",
        "plt.title(\"LOSSES\")\n",
        "plt.plot(train_losses, label = \"Train Loss\", color= \"green\")\n",
        "plt.plot(test_losses,  label = \"Test Loss\", color= \"red\")\n",
        "plt.legend()\n",
        "plt.grid()"
      ],
      "execution_count": 11,
      "outputs": [
        {
          "output_type": "display_data",
          "data": {
            "image/png": "[encoded data removed]",
            "text/plain": [
              "<Figure size 432x288 with 1 Axes>"
            ]
          },
          "metadata": {
            "tags": [],
            "needs_background": "light"
          }
        }
      ]
    },
    {
      "cell_type": "code",
      "metadata": {
        "colab": {
          "base_uri": "https://localhost:8080/",
          "height": 281
        },
        "id": "hQ8g8_T5aU-g",
        "outputId": "8a6f9bad-b993-4067-ae2e-c92c9db8cb09"
      },
      "source": [
        "#绘制准确度图像\n",
        "plt.title(\"Acurracies\")\n",
        "plt.plot(train_acurracies, label = \"Train Acurracies\")\n",
        "plt.plot(test_acurracies,  label = \"Test Acurracies\")\n",
        "plt.legend()\n",
        "plt.grid()"
      ],
      "execution_count": 12,
      "outputs": [
        {
          "output_type": "display_data",
          "data": {
            "image/png": "[encoded data removed]",
            "text/plain": [
              "<Figure size 432x288 with 1 Axes>"
            ]
          },
          "metadata": {
            "tags": [],
            "needs_background": "light"
          }
        }
      ]
    },
    {
      "cell_type": "code",
      "metadata": {
        "colab": {
          "base_uri": "https://localhost:8080/"
        },
        "id": "HeNHL__6SLP-",
        "outputId": "60f1a941-b7a9-4647-e9e8-30b923979184"
      },
      "source": [
        "#测试集每个分类的准确度\n",
        "class_correct = list(0. for i in range(10))\n",
        "class_total = list(0. for i in range(10))\n",
        "with torch.no_grad():\n",
        "    for data in test_loader:\n",
        "        images, labels = data\n",
        "        images, labels = images.to(device), labels.to(device)\n",
        "        \n",
        "        outputs = cnn(images)\n",
        "        _, predicted = torch.max(outputs, 1)\n",
        "        c = (predicted == labels).squeeze()\n",
        "        for i in range(4):\n",
        "            label = labels[i]\n",
        "            class_correct[label] += c[i].item()\n",
        "            class_total[label] += 1\n",
        "\n",
        "\n",
        "for i in range(10):\n",
        "    print('Accuracy of %5s : %2d %%' % (\n",
        "        classes[i], 100 * class_correct[i] / class_total[i]))"
      ],
      "execution_count": 13,
      "outputs": [
        {
          "output_type": "stream",
          "text": [
            "Accuracy of plane : 86 %\n",
            "Accuracy of   car : 89 %\n",
            "Accuracy of  bird : 85 %\n",
            "Accuracy of   cat : 67 %\n",
            "Accuracy of  deer : 92 %\n",
            "Accuracy of   dog : 83 %\n",
            "Accuracy of  frog : 97 %\n",
            "Accuracy of horse : 87 %\n",
            "Accuracy of  ship : 88 %\n",
            "Accuracy of truck : 93 %\n"
          ],
          "name": "stdout"
        }
      ]
    },
    {
      "cell_type": "code",
      "metadata": {
        "colab": {
          "base_uri": "https://localhost:8080/",
          "height": 327
        },
        "id": "ZQyFJu3_Prp_",
        "outputId": "b9c08355-be82-4d8a-e075-bb7062ccd9c3"
      },
      "source": [
        "# 随机选取照片显示\r\n",
        "dataiter = iter(test_loader)\r\n",
        "images, labels = dataiter.next()\r\n",
        "images.numpy()\r\n",
        "\r\n",
        "#预测结果 \r\n",
        "output = cnn(images.to(device))\r\n",
        "_, preds_tensor = torch.max(output.cpu(), 1)\r\n",
        "preds = np.squeeze(preds_tensor.numpy())\r\n",
        "\r\n",
        "# 显示一张图片的预测结果，括号里为标签值\r\n",
        "fig = plt.figure(figsize=(30, 5))\r\n",
        "for idx in np.arange(1):\r\n",
        "    ax = fig.add_subplot(1, 1, idx+1, xticks=[], yticks=[])\r\n",
        "    imshow(images.cpu()[idx])\r\n",
        "    ax.set_title(\"{} ({})\".format(classes[preds[idx]], classes[labels[idx]]),\r\n",
        "                 color=(\"green\" if preds[idx]==labels[idx].item() else \"red\"),size='20')\r\n",
        "    "
      ],
      "execution_count": 48,
      "outputs": [
        {
          "output_type": "display_data",
          "data": {
            "image/png": "[encoded data removed]",
            "text/plain": [
              "<Figure size 2160x360 with 1 Axes>"
            ]
          },
          "metadata": {
            "tags": []
          }
        }
      ]
    }
  ]
}